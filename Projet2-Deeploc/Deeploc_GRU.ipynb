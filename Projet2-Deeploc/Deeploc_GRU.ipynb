{
  "cells": [
    {
      "cell_type": "markdown",
      "id": "99469dec",
      "metadata": {
        "id": "99469dec"
      },
      "source": [
        "## 0 - Librairies"
      ]
    },
    {
      "cell_type": "code",
      "execution_count": 1,
      "id": "f5d9f9db",
      "metadata": {
        "id": "f5d9f9db"
      },
      "outputs": [
        {
          "name": "stderr",
          "output_type": "stream",
          "text": [
            "2025-09-24 17:59:18.984130: I external/local_xla/xla/tsl/cuda/cudart_stub.cc:31] Could not find cuda drivers on your machine, GPU will not be used.\n",
            "2025-09-24 17:59:19.147248: I tensorflow/core/platform/cpu_feature_guard.cc:210] This TensorFlow binary is optimized to use available CPU instructions in performance-critical operations.\n",
            "To enable the following instructions: AVX2 FMA, in other operations, rebuild TensorFlow with the appropriate compiler flags.\n",
            "2025-09-24 17:59:22.447711: I external/local_xla/xla/tsl/cuda/cudart_stub.cc:31] Could not find cuda drivers on your machine, GPU will not be used.\n"
          ]
        }
      ],
      "source": [
        "import pandas as pd\n",
        "import numpy as np\n",
        "from tensorflow.keras.models import Sequential\n",
        "from tensorflow.keras.layers import Embedding, Dense, Dropout, Masking, GRU, Bidirectional\n",
        "from tensorflow.keras.optimizers import Adam\n",
        "from tensorflow.keras.callbacks import EarlyStopping\n",
        "from sklearn.model_selection import train_test_split\n",
        "from sklearn.metrics import roc_curve, roc_auc_score, confusion_matrix, roc_curve, auc\n",
        "import numpy as np\n",
        "import matplotlib.pyplot as plt\n",
        "import seaborn as sns"
      ]
    },
    {
      "cell_type": "markdown",
      "id": "38fceec1",
      "metadata": {
        "id": "38fceec1"
      },
      "source": [
        "## 1 - Data Preparation"
      ]
    },
    {
      "cell_type": "code",
      "execution_count": 2,
      "id": "aid3lwVJFMwY",
      "metadata": {
        "id": "aid3lwVJFMwY"
      },
      "outputs": [],
      "source": [
        "train_df = pd.read_csv(\"Data/Swissprot_Train_Validation_dataset.csv\")"
      ]
    },
    {
      "cell_type": "code",
      "execution_count": 3,
      "id": "266e9d74",
      "metadata": {
        "id": "266e9d74"
      },
      "outputs": [],
      "source": [
        "labels = train_df.drop(columns=[\"ACC\", \"Sequence\", \"Kingdom\", \"Unnamed: 0\", \"Partition\"]).values"
      ]
    },
    {
      "cell_type": "code",
      "execution_count": 4,
      "id": "ZgF46ns2znet",
      "metadata": {
        "id": "ZgF46ns2znet"
      },
      "outputs": [],
      "source": [
        "amino_acids = sorted(set(''.join(train_df[\"Sequence\"])))\n",
        "aa_to_index = {aa: i+1 for i, aa in enumerate(amino_acids)}  # +1  (0 reserved to padding)\n",
        "vocab_size = len(amino_acids) + 1  # +1 for padding"
      ]
    },
    {
      "cell_type": "code",
      "execution_count": 5,
      "id": "2yBIskHez3RG",
      "metadata": {
        "id": "2yBIskHez3RG"
      },
      "outputs": [],
      "source": [
        "# Function to transform and encode a sequence in one pass\n",
        "def transform_and_encode_sequence(sequence, aa_to_index, max_length=1000):\n",
        "    \"\"\"\n",
        "    Transform and encode a sequence of amino acids according to the following rules:\n",
        "    - If the sequence is shorter than max_length, pad with zeros.\n",
        "    - If the sequence is longer than max_length, keep the first 500 and last 500 amino acids.\n",
        "    \"\"\"\n",
        "    # Encode sequence as indices\n",
        "    encoded = np.array([aa_to_index.get(aa, 0) for aa in sequence], dtype=np.int32)\n",
        "\n",
        "    # Transform sequence\n",
        "    if len(encoded) < max_length:\n",
        "        # Pad with zeros\n",
        "        transformed = np.zeros(max_length, dtype=np.int32)\n",
        "        transformed[:len(encoded)] = encoded\n",
        "    else:\n",
        "        # Keep first 500 and last 500 amino acids\n",
        "        transformed = np.concatenate([encoded[:500], encoded[-500:]])\n",
        "\n",
        "    return transformed"
      ]
    },
    {
      "cell_type": "code",
      "execution_count": 6,
      "id": "RZ9sK2Yfz66B",
      "metadata": {
        "id": "RZ9sK2Yfz66B"
      },
      "outputs": [],
      "source": [
        "# Apply transformation and encoding directly to sequences\n",
        "X = np.array([transform_and_encode_sequence(seq, aa_to_index) for seq in train_df[\"Sequence\"]])"
      ]
    },
    {
      "cell_type": "code",
      "execution_count": 7,
      "id": "vPRUM9G1_vc-",
      "metadata": {
        "colab": {
          "base_uri": "https://localhost:8080/"
        },
        "id": "vPRUM9G1_vc-",
        "outputId": "2d7d0e39-0f3d-43d7-ddeb-b402b5c3142f"
      },
      "outputs": [
        {
          "name": "stdout",
          "output_type": "stream",
          "text": [
            "Shape of X: (28303, 1000)\n",
            "Example of transformed sequence:\n",
            " [12  1  1  1  1  1  1  1  1  1]\n"
          ]
        }
      ],
      "source": [
        "print(\"Shape of X:\", X.shape)\n",
        "print(\"Example of transformed sequence:\\n\", X[0, :10])"
      ]
    },
    {
      "cell_type": "code",
      "execution_count": 8,
      "id": "qEKBEuPN_zJy",
      "metadata": {
        "colab": {
          "base_uri": "https://localhost:8080/"
        },
        "id": "qEKBEuPN_zJy",
        "outputId": "556e6261-8e5a-4ad7-e3c1-047fad2ea5bf"
      },
      "outputs": [
        {
          "name": "stdout",
          "output_type": "stream",
          "text": [
            "Shape of y: (28303, 11)\n",
            "Example of labels:\n",
            " [0. 1. 1. 0. 0. 0. 0. 0. 0. 0. 0.]\n"
          ]
        }
      ],
      "source": [
        "print(\"Shape of y:\", labels.shape)\n",
        "print(\"Example of labels:\\n\", labels[0])"
      ]
    },
    {
      "cell_type": "markdown",
      "id": "e6c5e0b1",
      "metadata": {
        "id": "e6c5e0b1"
      },
      "source": [
        "## 2 - Modele GRU\n"
      ]
    },
    {
      "cell_type": "markdown",
      "id": "c9ca08cc",
      "metadata": {
        "id": "c9ca08cc"
      },
      "source": [
        "### Parameters"
      ]
    },
    {
      "cell_type": "code",
      "execution_count": 9,
      "id": "7b5065f5",
      "metadata": {
        "id": "7b5065f5"
      },
      "outputs": [],
      "source": [
        "test_size = 0.2\n",
        "embedding_dim = 32\n",
        "epochs = 30\n",
        "loss = 'binary_crossentropy'\n",
        "metrics = ['accuracy']\n",
        "monitor_callback = \"val_accuracy\"\n",
        "patience_callback = 4\n",
        "mode_callback = None #\"max\""
      ]
    },
    {
      "cell_type": "code",
      "execution_count": 10,
      "id": "555d6deb",
      "metadata": {
        "id": "555d6deb"
      },
      "outputs": [],
      "source": [
        "# Split data into training, testing and validation sets\n",
        "X_train, X_test, y_train, y_test = train_test_split(X, labels, test_size=test_size)"
      ]
    },
    {
      "cell_type": "code",
      "execution_count": 11,
      "id": "EKvR6NSKoAfv",
      "metadata": {
        "id": "EKvR6NSKoAfv"
      },
      "outputs": [],
      "source": [
        "param_grid = {\n",
        "    'learning_rate': [0.001],\n",
        "    'dropout_rate': [0.2],   #   [0.2, 0.3]\n",
        "    'batch_size': [64]    #   [32, 64]\n",
        "}"
      ]
    },
    {
      "cell_type": "code",
      "execution_count": 12,
      "id": "7089c3c6",
      "metadata": {
        "id": "7089c3c6"
      },
      "outputs": [],
      "source": [
        "def create_and_train_model(X_train, y_train, learning_rate, dropout_rate, batch_size, epochs):\n",
        "    model = Sequential([\n",
        "    # Embedding layer to transform indices into dense vectors\n",
        "    Embedding(\n",
        "        input_dim=vocab_size,\n",
        "        output_dim=embedding_dim,\n",
        "        input_length=1000,\n",
        "        mask_zero=True  # Mask zeros (padding)\n",
        "    ),\n",
        "\n",
        "    Masking(mask_value=0.0),\n",
        "    Bidirectional(GRU(128, return_sequences=True)),\n",
        "    Dropout(dropout_rate),\n",
        "    Bidirectional(GRU(64)),\n",
        "    Dropout(dropout_rate),\n",
        "    Dense(64),\n",
        "    Dropout(dropout_rate),\n",
        "    Dense(11, activation='sigmoid')  # Ensure the number of neurons matches y.shape[1]\n",
        "])\n",
        "    model.compile(\n",
        "        optimizer=Adam(learning_rate=learning_rate),\n",
        "        loss='binary_crossentropy',\n",
        "        metrics=['accuracy']\n",
        "    )\n",
        "    history = model.fit(\n",
        "        X_train, y_train,\n",
        "        batch_size=batch_size,\n",
        "        epochs=epochs,\n",
        "        validation_split=0.2,\n",
        "        verbose=1,\n",
        "        callbacks=[EarlyStopping(monitor=monitor_callback, patience=patience_callback, mode=mode_callback, restore_best_weights=True)]\n",
        "    )\n",
        "    return model, history"
      ]
    },
    {
      "cell_type": "code",
      "execution_count": null,
      "id": "JxDk0qVaoDQF",
      "metadata": {
        "colab": {
          "base_uri": "https://localhost:8080/"
        },
        "id": "JxDk0qVaoDQF",
        "outputId": "52a483b6-aad6-4316-9f91-9c52ac39bfd9"
      },
      "outputs": [
        {
          "name": "stdout",
          "output_type": "stream",
          "text": [
            "Testing: lr=0.001, dropout=0.2, batch_size=64\n"
          ]
        },
        {
          "name": "stderr",
          "output_type": "stream",
          "text": [
            "/home/hugob/Projets/2-Projets_courts/.venv/lib/python3.13/site-packages/keras/src/layers/core/embedding.py:97: UserWarning: Argument `input_length` is deprecated. Just remove it.\n",
            "  warnings.warn(\n",
            "WARNING: All log messages before absl::InitializeLog() is called are written to STDERR\n",
            "E0000 00:00:1758729568.480114   25388 cuda_executor.cc:1309] INTERNAL: CUDA Runtime error: Failed call to cudaGetRuntimeVersion: Error loading CUDA libraries. GPU will not be used.: Error loading CUDA libraries. GPU will not be used.\n",
            "W0000 00:00:1758729568.503422   25388 gpu_device.cc:2342] Cannot dlopen some GPU libraries. Please make sure the missing libraries mentioned above are installed properly if you would like to use GPU. Follow the guide at https://www.tensorflow.org/install/gpu for how to download and setup the required libraries for your platform.\n",
            "Skipping registering GPU devices...\n"
          ]
        },
        {
          "name": "stderr",
          "output_type": "stream",
          "text": [
            "/home/hugob/Projets/2-Projets_courts/.venv/lib/python3.13/site-packages/keras/src/callbacks/early_stopping.py:77: UserWarning: EarlyStopping mode 'None' is unknown, fallback to auto mode.\n",
            "  super().__init__(monitor, mode, min_delta=min_delta)\n"
          ]
        },
        {
          "name": "stdout",
          "output_type": "stream",
          "text": [
            "Epoch 1/30\n",
            "\u001b[1m284/284\u001b[0m \u001b[32m━━━━━━━━━━━━━━━━━━━━\u001b[0m\u001b[37m\u001b[0m \u001b[1m1132s\u001b[0m 4s/step - accuracy: 0.3390 - loss: 0.3458 - val_accuracy: 0.4763 - val_loss: 0.2804\n",
            "Epoch 2/30\n",
            "\u001b[1m284/284\u001b[0m \u001b[32m━━━━━━━━━━━━━━━━━━━━\u001b[0m\u001b[37m\u001b[0m \u001b[1m1116s\u001b[0m 4s/step - accuracy: 0.5199 - loss: 0.2736 - val_accuracy: 0.5156 - val_loss: 0.2605\n",
            "Epoch 3/30\n",
            "\u001b[1m 36/284\u001b[0m \u001b[32m━━\u001b[0m\u001b[37m━━━━━━━━━━━━━━━━━━\u001b[0m \u001b[1m17:05\u001b[0m 4s/step - accuracy: 0.5185 - loss: 0.2726"
          ]
        }
      ],
      "source": [
        "best_score = -np.inf\n",
        "best_params = {}\n",
        "best_model = None\n",
        "best_history = None\n",
        "\n",
        "# Grid search but manually (GridSearch does not work...)\n",
        "for learning_rate in param_grid['learning_rate']:\n",
        "    for dropout_rate in param_grid['dropout_rate']:\n",
        "        for batch_size in param_grid['batch_size']:\n",
        "\n",
        "              print(f\"Testing: lr={learning_rate}, dropout={dropout_rate}, batch_size={batch_size}\")\n",
        "\n",
        "              model, history = create_and_train_model(X_train, y_train, learning_rate, dropout_rate, batch_size, epochs)\n",
        "              val_accuracy = history.history['val_accuracy'][-1]\n",
        "\n",
        "              if val_accuracy > best_score:\n",
        "                  best_score = val_accuracy\n",
        "                  best_model = model\n",
        "                  best_history = history\n",
        "\n",
        "                  best_params = {\n",
        "                      'learning_rate': learning_rate,\n",
        "                      'dropout_rate': dropout_rate,\n",
        "                      'batch_size': batch_size\n",
        "                    }"
      ]
    },
    {
      "cell_type": "markdown",
      "id": "saSOyUKc4hp0",
      "metadata": {
        "id": "saSOyUKc4hp0"
      },
      "source": [
        "## 3 - Results"
      ]
    },
    {
      "cell_type": "code",
      "execution_count": null,
      "id": "oIIu_bN4oGrB",
      "metadata": {
        "colab": {
          "base_uri": "https://localhost:8080/"
        },
        "id": "oIIu_bN4oGrB",
        "outputId": "7ef4c727-bb4f-49bb-95a4-74f96f6af52e"
      },
      "outputs": [
        {
          "name": "stdout",
          "output_type": "stream",
          "text": [
            "Meilleur score de validation: 0.3074\n",
            "Meilleurs paramètres: {'learning_rate': 0.01, 'dropout_rate': 0.3, 'batch_size': 64}\n"
          ]
        }
      ],
      "source": [
        "print(f\"Best validation score: {best_score:.4f}\")\n",
        "print(f\"Best parameters: {best_params}\")"
      ]
    },
    {
      "cell_type": "code",
      "execution_count": null,
      "id": "JaTmdQeOzIuy",
      "metadata": {
        "id": "JaTmdQeOzIuy"
      },
      "outputs": [],
      "source": [
        "best_model.summary()"
      ]
    },
    {
      "cell_type": "code",
      "execution_count": null,
      "id": "a48f08c4",
      "metadata": {
        "colab": {
          "base_uri": "https://localhost:8080/",
          "height": 607
        },
        "id": "a48f08c4",
        "outputId": "a1ad6d2d-0441-434d-942e-2a56ce437842"
      },
      "outputs": [
        {
          "data": {
            "image/png": "[encoded data removed]",
            "text/plain": [
              "<Figure size 1200x600 with 2 Axes>"
            ]
          },
          "metadata": {},
          "output_type": "display_data"
        }
      ],
      "source": [
        "# Accuracy\n",
        "plt.figure(figsize=(12, 6))\n",
        "plt.subplot(1, 2, 1)\n",
        "plt.plot(best_history.history['accuracy'])\n",
        "plt.plot(best_history.history['val_accuracy'])\n",
        "plt.title('Model accuracy')\n",
        "plt.ylabel('Accuracy')\n",
        "plt.xlabel('Epoch')\n",
        "plt.legend(['Train', 'Validation'], loc='upper left')\n",
        "\n",
        "# Loss\n",
        "plt.subplot(1, 2, 2)\n",
        "plt.plot(best_history.history['loss'])\n",
        "plt.plot(best_history.history['val_loss'])\n",
        "plt.title('Model loss')\n",
        "plt.ylabel('Loss')\n",
        "plt.xlabel('Epoch')\n",
        "plt.legend(['Train', 'Validation'], loc='upper left')\n",
        "\n",
        "plt.tight_layout()\n",
        "plt.show()\n"
      ]
    },
    {
      "cell_type": "code",
      "execution_count": null,
      "id": "EQAk6TFnocX1",
      "metadata": {
        "colab": {
          "base_uri": "https://localhost:8080/"
        },
        "id": "EQAk6TFnocX1",
        "outputId": "808521ca-0c8b-466d-9daa-984011b090f3"
      },
      "outputs": [
        {
          "name": "stdout",
          "output_type": "stream",
          "text": [
            "Test Loss: 0.3564\n",
            "Test Accuracy: 0.3104\n"
          ]
        }
      ],
      "source": [
        "test_loss, test_accuracy = best_model.evaluate(X_test, y_test, verbose=0)\n",
        "print(f\"Test Loss: {test_loss:.4f}\")\n",
        "print(f\"Test Accuracy: {test_accuracy:.4f}\")"
      ]
    },
    {
      "cell_type": "code",
      "execution_count": null,
      "id": "209cf7ca",
      "metadata": {},
      "outputs": [],
      "source": [
        "# Predict classes using the cnn model\n",
        "y_pred_cnn = best_model.predict(X_test)\n",
        "y_pred_classes = np.argmax(y_pred_cnn, axis=1)"
      ]
    },
    {
      "cell_type": "code",
      "execution_count": null,
      "id": "ca89e7e9",
      "metadata": {},
      "outputs": [],
      "source": [
        "# Confusion matrix\n",
        "matrix = confusion_matrix(y_test, y_pred_classes)  # Compare true labels (y_test) and predicted labels (y_pred_classes_dense)\n",
        "\n",
        "# Plot confusion matrix\n",
        "sns.heatmap(matrix, annot=True, fmt='d', cmap='Blues')\n",
        "plt.xlabel('Predicted label')\n",
        "plt.ylabel('True label')\n",
        "plt.title('Confusion Matrix (CNN Modele)')\n",
        "plt.show()\n",
        "\n",
        "# Calculate Sensitivity (SEV) and Specificity (SPE) for each class\n",
        "for i in range(matrix.shape[0]):\n",
        "    tp = matrix[i, i]\n",
        "    fn = np.sum(matrix[i, :]) - tp\n",
        "    fp = np.sum(matrix[:, i]) - tp\n",
        "    tn = np.sum(matrix) - tp - fn - fp\n",
        "    f1 = 2 * tp / (2 * tp + fp + fn) if (2 * tp + fp + fn) > 0 else 0  # F1-score\n",
        "    sev = tp / (tp + fn) if (tp + fn) > 0 else 0  # Sensitivity (Recall)\n",
        "    spe = tn / (tn + fp) if (tn + fp) > 0 else 0  # Specificity\n",
        "    accuracy = (tn + tp) / (tp + fn + tn + fp)\n",
        "    print(f'Class {i}:')\n",
        "    print(f'  Sensitivity (SEV): {sev:.4f}')\n",
        "    print(f'  Specificity (SPE): {spe:.4f}')\n",
        "    print(f'  Accuracy: {accuracy:.4f}')\n",
        "    print(f'  F1-score: {f1:.4f}\\n')"
      ]
    }
  ],
  "metadata": {
    "accelerator": "GPU",
    "colab": {
      "gpuType": "T4",
      "provenance": []
    },
    "kernelspec": {
      "display_name": "2-projets-courts",
      "language": "python",
      "name": "python3"
    },
    "language_info": {
      "codemirror_mode": {
        "name": "ipython",
        "version": 3
      },
      "file_extension": ".py",
      "mimetype": "text/x-python",
      "name": "python",
      "nbconvert_exporter": "python",
      "pygments_lexer": "ipython3",
      "version": "3.13.7"
    }
  },
  "nbformat": 4,
  "nbformat_minor": 5
}
