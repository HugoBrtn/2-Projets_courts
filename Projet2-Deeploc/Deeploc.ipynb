{
 "cells": [
  {
   "cell_type": "markdown",
   "id": "99469dec",
   "metadata": {},
   "source": [
    "## 0 - Librairies"
   ]
  },
  {
   "cell_type": "code",
   "execution_count": null,
   "id": "f5d9f9db",
   "metadata": {
    "vscode": {
     "languageId": "plaintext"
    }
   },
   "outputs": [],
   "source": [
    "import pandas as pd\n",
    "import numpy as np\n",
    "from sklearn.preprocessing import LabelEncoder, MultiLabelBinarizer\n",
    "from sklearn.model_selection import train_test_split"
   ]
  },
  {
   "cell_type": "markdown",
   "id": "38fceec1",
   "metadata": {},
   "source": [
    "## 1 - Data Preparation"
   ]
  },
  {
   "cell_type": "code",
   "execution_count": null,
   "id": "32babd38",
   "metadata": {
    "vscode": {
     "languageId": "plaintext"
    }
   },
   "outputs": [],
   "source": [
    "# Charger les données\n",
    "train_df = pd.read_csv(\"Swissprot_Train_Validation_dataset.csv\")\n",
    "signals_df = pd.read_csv(\"SortingSignalsSwissprot.csv\")\n",
    "test_df = pd.read_csv(\"hpa_testset.csv\")\n",
    "\n",
    "# Fusionner avec les signaux de tri\n",
    "train_df = pd.merge(train_df, signals_df, on=\"protein_id\", how=\"left\")\n",
    "\n",
    "# Encoder les localisations subcellulaires\n",
    "label_encoder = LabelEncoder()\n",
    "train_df['location_encoded'] = label_encoder.fit_transform(train_df['location'])\n",
    "\n",
    "# Encoder les signaux de tri (ex. : signal peptide, NLS, etc.)\n",
    "signal_columns = ['signal_peptide', 'NLS', 'PTS1', 'PTS2', 'TM_helix']\n",
    "signal_encoder = MultiLabelBinarizer()\n",
    "train_signals = signal_encoder.fit_transform(train_df[signal_columns].fillna(\"\"))\n",
    "\n",
    "# Définir un vocabulaire pour les acides aminés\n",
    "amino_acids = 'ACDEFGHIKLMNPQRSTVWY'\n",
    "vocab = {aa: i+1 for i, aa in enumerate(amino_acids)}\n",
    "\n",
    "# Encoder les séquences en indices\n",
    "def encode_sequence(sequence, max_length=1000):\n",
    "    encoded = np.zeros(max_length, dtype=int)\n",
    "    for i, aa in enumerate(sequence[:max_length]):\n",
    "        encoded[i] = vocab.get(aa, 0)  # 0 pour les acides aminés inconnus\n",
    "    return encoded\n",
    "\n",
    "X_seq = np.array([encode_sequence(seq) for seq in train_df['sequence']])\n",
    "X_signals = train_signals\n",
    "y = train_df['location_encoded'].values\n",
    "\n",
    "# Diviser en ensembles d'entraînement et de validation\n",
    "X_seq_train, X_seq_val, X_signals_train, X_signals_val, y_train, y_val = train_test_split(\n",
    "    X_seq, X_signals, y, test_size=0.2, random_state=42\n",
    ")\n"
   ]
  }
 ],
 "metadata": {
  "language_info": {
   "name": "python"
  }
 },
 "nbformat": 4,
 "nbformat_minor": 5
}
